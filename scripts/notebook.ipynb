{
 "cells": [
  {
   "cell_type": "code",
   "execution_count": 1,
   "metadata": {},
   "outputs": [],
   "source": [
    "import pandas as pd\n",
    "\n",
    "# List of years\n",
    "years = range(2008, 2023)\n",
    "\n",
    "# List to store all files\n",
    "lista_dfs = []\n",
    "\n",
    "for year in years:\n",
    "    # file path\n",
    "    csv_file_path = f'/home/orlando_linux/alura_challange/csv_site/despesa_ceaps_{year}.csv'\n",
    "    \n",
    "    # Reading CSV file with 'latin-1' encoding, semicolon as delimiter, and removal of the first line.\n",
    "    try:\n",
    "        data = pd.read_csv(csv_file_path, delimiter=';', encoding='utf-8', skiprows=1)\n",
    "    except UnicodeDecodeError:\n",
    "        data = pd.read_csv(csv_file_path, delimiter=';', encoding='latin-1', skiprows=1)\n",
    "    \n",
    "    # To create the DataFrame for the current year and add it to the list\n",
    "    df = pd.DataFrame(data)\n",
    "    lista_dfs.append(df)\n",
    "\n",
    "# Concatenating all DataFrames from the list into a single DataFrame\n",
    "df = pd.concat(lista_dfs, ignore_index=True)\n",
    "\n"
   ]
  },
  {
   "cell_type": "code",
   "execution_count": 2,
   "metadata": {},
   "outputs": [
    {
     "name": "stdout",
     "output_type": "stream",
     "text": [
      "Total de linhas removidas foi de 3144\n",
      "Compreendendo a 0.99% do total\n"
     ]
    }
   ],
   "source": [
    "# Contando o número de linhas antes da remoção\n",
    "total_linhas_antes = len(df)\n",
    "\n",
    "# Removendo linhas onde a coluna 'DATA' é nula\n",
    "df_1 = df.dropna(subset=['DATA'])\n",
    "\n",
    "# Contando o número de linhas após a remoção\n",
    "total_linhas_depois = len(df_1)\n",
    "\n",
    "# Calculando o número de linhas eliminadas\n",
    "linhas_eliminadas = total_linhas_antes - total_linhas_depois\n",
    "\n",
    "# Calculando o percentual eliminado\n",
    "linhas_eliminadas_share = round(1-(total_linhas_antes - total_linhas_depois)/total_linhas_antes,2)\n",
    "\n",
    "print(f\"Total de linhas removidas foi de {linhas_eliminadas}\")\n",
    "print(f\"Compreendendo a {linhas_eliminadas_share}% do total\")\n"
   ]
  },
  {
   "cell_type": "code",
   "execution_count": 3,
   "metadata": {},
   "outputs": [
    {
     "name": "stdout",
     "output_type": "stream",
     "text": [
      "Número de linhas com erros após a conversão: 23\n",
      "Percentual de linhas eliminadas: 0.01%\n"
     ]
    }
   ],
   "source": [
    "# Convertendo a coluna 'DATA' para datetime com o formato correto 'dia/mês/ano'\n",
    "df_1.loc[:, 'DATA'] = pd.to_datetime(df_1['DATA'], format='%d/%m/%Y', errors='coerce')\n",
    "\n",
    "# Contando o número de valores NaT na coluna 'DATA'\n",
    "num_errors = df_1['DATA'].isna().sum()\n",
    "\n",
    "print(\"Número de linhas com erros após a conversão:\", num_errors)\n",
    "\n",
    "# Removendo linhas com valores NaT na coluna 'DATA'\n",
    "df_2 = df_1.dropna(subset=['DATA'])\n",
    "\n",
    "# Calculando o número total de linhas original\n",
    "total_linhas_original = len(df_1)\n",
    "\n",
    "# Calculando o percentual de linhas eliminadas\n",
    "linhas_eliminadas = num_errors\n",
    "percentual_eliminado = (linhas_eliminadas / total_linhas_original) * 100\n",
    "\n",
    "print(f\"Percentual de linhas eliminadas: {percentual_eliminado:.2f}%\")\n"
   ]
  },
  {
   "cell_type": "code",
   "execution_count": 4,
   "metadata": {},
   "outputs": [],
   "source": [
    "# Remover caracteres indesejados da coluna 'VALOR_REEMBOLSADO'\n",
    "df_2.loc[:, 'VALOR_REEMBOLSADO'] = df_2['VALOR_REEMBOLSADO'].str.replace('\\r\\n', '').str.replace(',', '.')\n",
    "\n",
    "# Converter a coluna 'VALOR_REEMBOLSADO' para float\n",
    "df_2.loc[:, 'VALOR_REEMBOLSADO'] = df_2['VALOR_REEMBOLSADO'].astype(float)\n",
    "\n",
    "# Remover o índice\n",
    "df_3 = df_2.reset_index(drop=True)"
   ]
  },
  {
   "cell_type": "code",
   "execution_count": 5,
   "metadata": {},
   "outputs": [
    {
     "name": "stdout",
     "output_type": "stream",
     "text": [
      "<class 'pandas.core.frame.DataFrame'>\n",
      "RangeIndex: 314796 entries, 0 to 314795\n",
      "Data columns (total 11 columns):\n",
      " #   Column             Non-Null Count   Dtype  \n",
      "---  ------             --------------   -----  \n",
      " 0   ANO                314796 non-null  int64  \n",
      " 1   MES                314796 non-null  int64  \n",
      " 2   SENADOR            314796 non-null  object \n",
      " 3   TIPO_DESPESA       314796 non-null  object \n",
      " 4   CNPJ_CPF           314796 non-null  object \n",
      " 5   FORNECEDOR         314796 non-null  object \n",
      " 6   DOCUMENTO          293132 non-null  object \n",
      " 7   DATA               314796 non-null  object \n",
      " 8   DETALHAMENTO       180610 non-null  object \n",
      " 9   VALOR_REEMBOLSADO  314796 non-null  object \n",
      " 10  COD_DOCUMENTO      314794 non-null  float64\n",
      "dtypes: float64(1), int64(2), object(8)\n",
      "memory usage: 26.4+ MB\n"
     ]
    }
   ],
   "source": [
    "df_3.info()"
   ]
  },
  {
   "cell_type": "code",
   "execution_count": 7,
   "metadata": {},
   "outputs": [
    {
     "name": "stdout",
     "output_type": "stream",
     "text": [
      "['ACIR GURGACZ', 'ADELMIR SANTANA', 'ALMEIDA LIMA', 'ALOIZIO MERCADANTE', 'ANTONIO CARLOS JUNIOR', 'ANTÔNIO CARLOS VALADARES', 'ARTHUR VIRGÍLIO', 'AUGUSTO BOTELHO', 'CÉSAR BORGES', 'CÍCERO LUCENA', 'CRISTOVAM BUARQUE', 'DELCIDIO DO AMARAL', 'DEMÓSTENES TORRES', 'EDUARDO AZEREDO', 'EDUARDO SUPLICY', 'EFRAIM MORAIS', 'ELISEU RESENDE', 'EPITÁCIO CAFETEIRA', 'EXPEDITO JUNIOR', 'FÁTIMA CLEIDE', 'FERNANDO COLLOR', 'FLÁVIO ARNS', 'FLÁVIO TORRES', 'FLEXA RIBEIRO', 'FRANCISCO DORNELLES', 'GARIBALDI ALVES FILHO', 'GERALDO MESQUITA JÚNIOR', 'GERSON CAMATA', 'GILBERTO GOELLNER', 'GILVAM BORGES', 'GIM ARGELLO', 'HERÁCLITO FORTES', 'IDELI SALVATTI', 'INÁCIO ARRUDA', 'JARBAS VASCONCELOS', 'JAYME CAMPOS', 'JEFFERSON PRAIA', 'JOÃO DURVAL', 'JOÃO PEDRO', 'JOÃO RIBEIRO', 'JOÃO TENÓRIO', 'JOÃO VICENTE CLAUDINO', 'JOSÉ AGRIPINO', 'JOSÉ NERY', 'JOSÉ SARNEY', 'KÁTIA ABREU', 'LEOMAR QUINTANILHA', 'LOBÃO FILHO', 'LÚCIA VÂNIA', 'MAGNO MALTA', 'MÃO SANTA', 'MARCELO CRIVELLA', 'MARCONI PERILLO', 'MARIA DO CARMO ALVES', 'MARINA SILVA', 'MÁRIO COUTO', 'MARISA SERRANO', 'MAURO FECURY', 'MOZARILDO CAVALCANTI', 'NEUTO DE CONTO', 'OSMAR DIAS', 'OSVALDO SOBRINHO', 'PAPALÉO PAES', 'PATRÍCIA SABOYA GOMES', 'PAULO DUQUE', 'PAULO PAIM', 'RAIMUNDO COLOMBO', 'RENAN CALHEIROS', 'RENATO CASAGRANDE', 'ROBERTO CAVALCANTI', 'ROMERO JUCÁ', 'ROMEU TUMA', 'ROSALBA CIARLINI', 'ROSEANA SARNEY', 'SADI CASSOL', 'SÉRGIO GUERRA', 'SÉRGIO ZAMBIASI', 'SERYS SLHESSARENKO', 'TASSO JEREISSATI', 'TIÃO VIANA', 'VALDIR RAUPP', 'VALTER PEREIRA', 'WELLINGTON SALGADO DE OLIVEIRA', 'ALFREDO COTAIT', 'ALFREDO NASCIMENTO', 'BELINI MEURER', 'GEOVANI BORGES', 'HÉLIO COSTA', 'JOÃO FAUSTINO', 'JORGE YANAI', 'JOSÉ BEZERRA', 'NÍURA DEMARCHI', 'SELMA ELIAS', 'AÉCIO NEVES', 'ALOYSIO NUNES FERREIRA', 'ALVARO DIAS', 'ANA AMÉLIA', 'ANA RITA', 'ÂNGELA PORTELA', 'ANÍBAL DINIZ', 'ANTONIO RUSSO', 'ARMANDO MONTEIRO', 'ATAÍDES OLIVEIRA', 'BENEDITO DE LIRA', 'BLAIRO MAGGI', 'CASILDO MALDANER', 'CÁSSIO CUNHA LIMA', 'CIRO NOGUEIRA', 'CLÉSIO ANDRADE', 'CLÓVIS FECURY', 'CYRO MIRANDA', 'DANIMAR CRISTINA', 'EDUARDO AMORIM', 'EDUARDO BRAGA', 'GARIBALDI ALVES', 'GLEISI HOFFMANN', 'HUMBERTO COSTA', 'IVO CASSOL', 'IVONETE DANTAS', 'JOÃO ALBERTO SOUZA', 'JOÃO CAPIBERIBE', 'JORGE VIANA', 'JOSÉ PIMENTEL', 'LAURO ANTÔNIO', 'LÍDICE DA MATA', 'LINDBERGH FARIAS', 'LUIZ CARLOS', 'LUIZ HENRIQUE', 'MARINOR BRITO', 'MARTA SUPLICY', 'PAULO BAUER', 'PAULO DAVIM', 'PEDRO SIMON', 'PEDRO TAQUES', 'RANDOLFE RODRIGUES', 'REDITARIO CASSOL', 'RICARDO FERRAÇO', 'ROBERTO REQUIÃO', 'SÉRGIO PETECÃO', 'SÉRGIO SOUZA', 'VANESSA GRAZZIOTIN', 'VICENTINHO ALVES', 'VITAL DO RÊGO', 'WALDEMIR MOKA', 'WALTER PINHEIRO', 'WELLINGTON DIAS', 'WILSON SANTIAGO', 'ZEZÉ PERRELLA', 'ANTONIO CARLOS RODRIGUES', 'ASSIS GURGACZ', 'CIDINHO SANTOS', 'EDUARDO LOPES', 'JADER BARBALHO', 'JOÃO COSTA', 'MARCO ANTÔNIO COSTA', 'SODRÉ SANTORO', 'TOMÁS CORREIA', 'WILDER MORAIS', 'RUBEN FIGUEIRÓ', 'ANTONIO AURELIANO', 'DOUGLAS CINTRA', 'FLEURY', 'KAKÁ ANDRADE', 'ODACIR SOARES', 'A�CIO NEVES', 'ANA AM�LIA', '�NGELA PORTELA', 'AN�BAL DINIZ', 'ANTONIO ANASTASIA', 'ANT�NIO CARLOS VALADARES', 'ATA�DES OLIVEIRA', 'C�SSIO CUNHA LIMA', 'C�CERO LUCENA', 'DALIRIO BEBER', 'D�RIO BERGER', 'DAVI ALCOLUMBRE', 'DONIZETI NOGUEIRA', 'EDISON LOB�O', 'ELMANO F�RRER', 'EPIT�CIO CAFETEIRA', 'F�TIMA BEZERRA', 'FERNANDO BEZERRA COELHO', 'FERNANDO RIBEIRO', 'GLADSON CAMELI', 'H�LIO JOS�', 'IN�CIO ARRUDA', 'JO�O ALBERTO SOUZA', 'JO�O CAPIBERIBE', 'JO�O DURVAL', 'JO�O VICENTE CLAUDINO', 'JOS� AGRIPINO', 'JOS� MARANH�O', 'JOS� MEDEIROS', 'JOS� PIMENTEL', 'JOS� SERRA', 'LASIER MARTINS', 'L�DICE DA MATA', 'L�CIA V�NIA', 'MARCO ANT�NIO COSTA', 'M�RIO COUTO', 'OMAR AZIZ', 'OTTO ALENCAR', 'PAULO ROCHA', 'RAIMUNDO LIRA', 'REGINA SOUSA', 'RICARDO FERRA�O', 'RICARDO FRANCO', 'ROBERTO REQUI�O', 'ROBERTO ROCHA', 'ROM�RIO', 'ROMERO JUC�', 'RONALDO CAIADO', 'ROSE DE FREITAS', 'RUBEN FIGUEIR�', 'SANDRA BRAGA', 'S�RGIO PETEC�O', 'SIMONE TEBET', 'SODR� SANTORO', 'TELM�RIO MOTA', 'WELLINGTON FAGUNDES', 'ZEZ� PERRELLA', 'DÁRIO BERGER', 'DECA', 'EDISON LOBÃO', 'ELMANO FÉRRER', 'FÁTIMA BEZERRA', 'GILBERTO PISELO', 'HÉLIO JOSÉ', 'JOSÉ ANÍBAL', 'JOSÉ MARANHÃO', 'JOSÉ MEDEIROS', 'JOSÉ SERRA', 'PASTOR VALADARES', 'PEDRO CHAVES DOS SANTOS FILHO', 'PINTO ITAMARATY', 'ROBERTO MUNIZ', 'ROMÁRIO', 'TELMÁRIO MOTA', 'VIRGINIO DE CARVALHO', 'WIRLANDE DA LUZ', 'AIRTON SANDOVAL', 'ELBER BATALHA', 'PASTOR BEL', 'SÉRGIO DE CASTRO', 'THIERES PINTO', 'GIVAGO TENÓRIO', 'GUARACY SILVEIRA', 'IONE GUIMARÃES', 'JOSÉ AMAURI', 'RODRIGUES PALMA', 'RUDSON LEITE', 'ZÉ SANTANA', 'ALESSANDRO VIEIRA', 'ANGELO CORONEL', 'AROLDE DE OLIVEIRA', 'CARLOS VIANA', 'CHICO RODRIGUES', 'CID GOMES', 'CONFÚCIO MOURA', 'DANIELLA RIBEIRO', 'EDUARDO GIRÃO', 'EDUARDO GOMES', 'ELIZIANE GAMA', 'ESPERIDIÃO AMIN', 'FABIANO CONTARATO', 'FLÁVIO BOLSONARO', 'IRAJÁ', 'IZALCI LUCAS', 'JAQUES WAGNER', 'JEAN PAUL PRATES', 'JORGINHO MELLO', 'JUÍZA SELMA', 'LUCAS BARRETO', 'LUIS CARLOS HEINZE', 'LUIZ CARLOS DO CARMO', 'LUIZ PASTORE', 'MAILZA GOMES', 'MAJOR OLIMPIO', 'MARA GABRILLI', 'MARCELO CASTRO', 'MARCIO BITTAR', 'MARCOS DO VAL', 'MARCOS ROGÉRIO', 'MECIAS DE JESUS', 'NELSINHO TRAD', 'ORIOVISTO GUIMARÃES', 'PAULO ALBUQUERQUE', 'PLÍNIO VALÉRIO', 'PRISCO BEZERRA', 'RENILDE BULHÕES', 'RODRIGO CUNHA', 'RODRIGO PACHECO', 'ROGÉRIO CARVALHO', 'SIQUEIRA CAMPOS', 'SORAYA THRONICKE', 'STYVENSON VALENTIM', 'VANDERLAN CARDOSO', 'VENEZIANO VITAL DO RÊGO', 'WEVERTON ROCHA', 'ZENAIDE MAIA', 'ZEQUINHA MARINHO', 'CARLOS FÁVARO', 'CARLOS PORTINHO', 'DIEGO TAVARES', 'NEY SUASSUNA', 'CHIQUINHO FEITOSA', 'ELIANE NOGUEIRA', 'GIORDANO', 'MARIA ELIZA DE AGUIAR E SILVA', 'NAILDE PANTA', 'NILDA GONDIM', 'ALEXANDRE SILVEIRA', 'DRA. EUDÓCIA', 'EDUARDO VELLOSO', 'FABIO GARCIA', 'FERNANDO DUEIRE', 'IVETE DA SILVEIRA', 'JULIO VENTURA', 'LEILA BARROS', 'MARGARETH BUZETTI', 'MARIA DAS VITÓRIAS', 'OGARI PACHECO', 'RAFAEL TENÓRIO', 'ROBERTH BRINGEL', 'SAMUEL ARAUJO']\n"
     ]
    }
   ],
   "source": [
    "print(df_3['SENADOR'].unique().tolist())"
   ]
  },
  {
   "cell_type": "code",
   "execution_count": 32,
   "metadata": {},
   "outputs": [],
   "source": []
  },
  {
   "cell_type": "code",
   "execution_count": 35,
   "metadata": {},
   "outputs": [
    {
     "name": "stdout",
     "output_type": "stream",
     "text": [
      "['A�CIO NEVES', 'ANA AM�LIA', '�NGELA PORTELA', 'AN�BAL DINIZ', 'ANT�NIO CARLOS VALADARES', 'ATA�DES OLIVEIRA', 'C�SSIO CUNHA LIMA', 'C�CERO LUCENA', 'D�RIO BERGER', 'EDISON LOB�O', 'ELMANO F�RRER', 'EPIT�CIO CAFETEIRA', 'F�TIMA BEZERRA', 'H�LIO JOS�', 'IN�CIO ARRUDA', 'JO�O ALBERTO SOUZA', 'JO�O CAPIBERIBE', 'JO�O DURVAL', 'JO�O VICENTE CLAUDINO', 'JOS� AGRIPINO', 'JOS� MARANH�O', 'JOS� MEDEIROS', 'JOS� PIMENTEL', 'JOS� SERRA', 'L�DICE DA MATA', 'L�CIA V�NIA', 'MARCO ANT�NIO COSTA', 'M�RIO COUTO', 'RICARDO FERRA�O', 'ROBERTO REQUI�O', 'ROM�RIO', 'ROMERO JUC�', 'RUBEN FIGUEIR�', 'S�RGIO PETEC�O', 'SODR� SANTORO', 'TELM�RIO MOTA', 'ZEZ� PERRELLA']\n"
     ]
    }
   ],
   "source": [
    "print(names_to_correct)"
   ]
  },
  {
   "cell_type": "code",
   "execution_count": 6,
   "metadata": {},
   "outputs": [],
   "source": [
    "def correct_names_in_dataframe(df, column_name):\n",
    "    corrections = {\n",
    "        'A�CIO NEVES': 'AÉCIO NEVES',\n",
    "        'ANA AM�LIA': 'ANA AMÉLIA',\n",
    "        '�NGELA PORTELA': 'ÂNGELA PORTELA',\n",
    "        'AN�BAL DINIZ': 'ANÍBAL DINIZ',\n",
    "        'ANT�NIO CARLOS VALADARES': 'ANTÔNIO CARLOS VALADARES',\n",
    "        'ATA�DES OLIVEIRA': 'ATAÍDES OLIVEIRA',\n",
    "        'C�SSIO CUNHA LIMA': 'CÁSSIO CUNHA LIMA',\n",
    "        'C�CERO LUCENA': 'CÍCERO LUCENA',\n",
    "        'D�RIO BERGER': 'DÁRIO BERGER',\n",
    "        'EDISON LOB�O': 'EDISON LOBÃO',\n",
    "        'ELMANO F�RRER': 'ELMANO FÉRRER',\n",
    "        'EPIT�CIO CAFETEIRA': 'EPITÁCIO CAFETEIRA',\n",
    "        'F�TIMA BEZERRA': 'FÁTIMA BEZERRA',\n",
    "        'H�LIO JOS�': 'HÉLIO JOSÉ',\n",
    "        'IN�CIO ARRUDA': 'INÁCIO ARRUDA',\n",
    "        'JO�O ALBERTO SOUZA': 'JOÃO ALBERTO SOUZA',\n",
    "        'JO�O CAPIBERIBE': 'JOÃO CAPIBERIBE',\n",
    "        'JO�O DURVAL': 'JOÃO DURVAL',\n",
    "        'JO�O VICENTE CLAUDINO': 'JOÃO VICENTE CLAUDINO',\n",
    "        'JOS� AGRIPINO': 'JOSÉ AGRIPINO',\n",
    "        'JOS� MARANH�O': 'JOSÉ MARANHÃO',\n",
    "        'JOS� MEDEIROS': 'JOSÉ MEDEIROS',\n",
    "        'JOS� PIMENTEL': 'JOSÉ PIMENTEL',\n",
    "        'JOS� SERRA': 'JOSÉ SERRA',\n",
    "        'L�DICE DA MATA': 'LÍDICE DA MATA',\n",
    "        'L�CIA V�NIA': 'LÚCIA VÂNIA',\n",
    "        'MARCO ANT�NIO COSTA': 'MARCO ANTÔNIO COSTA',\n",
    "        'M�RIO COUTO': 'MÁRIO COUTO',\n",
    "        'RICARDO FERRA�O': 'RICARDO FERRAÇO',\n",
    "        'ROBERTO REQUI�O': 'ROBERTO REQUIÃO',\n",
    "        'ROM�RIO': 'ROMÁRIO',\n",
    "        'ROMERO JUC�': 'ROMERO JUCÁ',\n",
    "        'RUBEN FIGUEIR�': 'RUBEN FIGUEIRÓ',\n",
    "        'S�RGIO PETEC�O': 'SÉRGIO PETECÃO',\n",
    "        'SODR� SANTORO': 'SODRÉ SANTORO',\n",
    "        'TELM�RIO MOTA': 'TELMÁRIO MOTA',\n",
    "        'ZEZ� PERRELLA': 'ZEZÉ PERRELLA'\n",
    "    }\n",
    "    \n",
    "    df[column_name] = df[column_name].apply(lambda x: corrections.get(x, x))\n",
    "    \n"
   ]
  },
  {
   "cell_type": "code",
   "execution_count": 7,
   "metadata": {},
   "outputs": [],
   "source": [
    "correct_names_in_dataframe(df_3,'SENADOR')"
   ]
  },
  {
   "cell_type": "code",
   "execution_count": 8,
   "metadata": {},
   "outputs": [
    {
     "name": "stdout",
     "output_type": "stream",
     "text": [
      "['ACIR GURGACZ', 'ADELMIR SANTANA', 'ALMEIDA LIMA', 'ALOIZIO MERCADANTE', 'ANTONIO CARLOS JUNIOR', 'ANTÔNIO CARLOS VALADARES', 'ARTHUR VIRGÍLIO', 'AUGUSTO BOTELHO', 'CÉSAR BORGES', 'CÍCERO LUCENA', 'CRISTOVAM BUARQUE', 'DELCIDIO DO AMARAL', 'DEMÓSTENES TORRES', 'EDUARDO AZEREDO', 'EDUARDO SUPLICY', 'EFRAIM MORAIS', 'ELISEU RESENDE', 'EPITÁCIO CAFETEIRA', 'EXPEDITO JUNIOR', 'FÁTIMA CLEIDE', 'FERNANDO COLLOR', 'FLÁVIO ARNS', 'FLÁVIO TORRES', 'FLEXA RIBEIRO', 'FRANCISCO DORNELLES', 'GARIBALDI ALVES FILHO', 'GERALDO MESQUITA JÚNIOR', 'GERSON CAMATA', 'GILBERTO GOELLNER', 'GILVAM BORGES', 'GIM ARGELLO', 'HERÁCLITO FORTES', 'IDELI SALVATTI', 'INÁCIO ARRUDA', 'JARBAS VASCONCELOS', 'JAYME CAMPOS', 'JEFFERSON PRAIA', 'JOÃO DURVAL', 'JOÃO PEDRO', 'JOÃO RIBEIRO', 'JOÃO TENÓRIO', 'JOÃO VICENTE CLAUDINO', 'JOSÉ AGRIPINO', 'JOSÉ NERY', 'JOSÉ SARNEY', 'KÁTIA ABREU', 'LEOMAR QUINTANILHA', 'LOBÃO FILHO', 'LÚCIA VÂNIA', 'MAGNO MALTA', 'MÃO SANTA', 'MARCELO CRIVELLA', 'MARCONI PERILLO', 'MARIA DO CARMO ALVES', 'MARINA SILVA', 'MÁRIO COUTO', 'MARISA SERRANO', 'MAURO FECURY', 'MOZARILDO CAVALCANTI', 'NEUTO DE CONTO', 'OSMAR DIAS', 'OSVALDO SOBRINHO', 'PAPALÉO PAES', 'PATRÍCIA SABOYA GOMES', 'PAULO DUQUE', 'PAULO PAIM', 'RAIMUNDO COLOMBO', 'RENAN CALHEIROS', 'RENATO CASAGRANDE', 'ROBERTO CAVALCANTI', 'ROMERO JUCÁ', 'ROMEU TUMA', 'ROSALBA CIARLINI', 'ROSEANA SARNEY', 'SADI CASSOL', 'SÉRGIO GUERRA', 'SÉRGIO ZAMBIASI', 'SERYS SLHESSARENKO', 'TASSO JEREISSATI', 'TIÃO VIANA', 'VALDIR RAUPP', 'VALTER PEREIRA', 'WELLINGTON SALGADO DE OLIVEIRA', 'ALFREDO COTAIT', 'ALFREDO NASCIMENTO', 'BELINI MEURER', 'GEOVANI BORGES', 'HÉLIO COSTA', 'JOÃO FAUSTINO', 'JORGE YANAI', 'JOSÉ BEZERRA', 'NÍURA DEMARCHI', 'SELMA ELIAS', 'AÉCIO NEVES', 'ALOYSIO NUNES FERREIRA', 'ALVARO DIAS', 'ANA AMÉLIA', 'ANA RITA', 'ÂNGELA PORTELA', 'ANÍBAL DINIZ', 'ANTONIO RUSSO', 'ARMANDO MONTEIRO', 'ATAÍDES OLIVEIRA', 'BENEDITO DE LIRA', 'BLAIRO MAGGI', 'CASILDO MALDANER', 'CÁSSIO CUNHA LIMA', 'CIRO NOGUEIRA', 'CLÉSIO ANDRADE', 'CLÓVIS FECURY', 'CYRO MIRANDA', 'DANIMAR CRISTINA', 'EDUARDO AMORIM', 'EDUARDO BRAGA', 'GARIBALDI ALVES', 'GLEISI HOFFMANN', 'HUMBERTO COSTA', 'IVO CASSOL', 'IVONETE DANTAS', 'JOÃO ALBERTO SOUZA', 'JOÃO CAPIBERIBE', 'JORGE VIANA', 'JOSÉ PIMENTEL', 'LAURO ANTÔNIO', 'LÍDICE DA MATA', 'LINDBERGH FARIAS', 'LUIZ CARLOS', 'LUIZ HENRIQUE', 'MARINOR BRITO', 'MARTA SUPLICY', 'PAULO BAUER', 'PAULO DAVIM', 'PEDRO SIMON', 'PEDRO TAQUES', 'RANDOLFE RODRIGUES', 'REDITARIO CASSOL', 'RICARDO FERRAÇO', 'ROBERTO REQUIÃO', 'SÉRGIO PETECÃO', 'SÉRGIO SOUZA', 'VANESSA GRAZZIOTIN', 'VICENTINHO ALVES', 'VITAL DO RÊGO', 'WALDEMIR MOKA', 'WALTER PINHEIRO', 'WELLINGTON DIAS', 'WILSON SANTIAGO', 'ZEZÉ PERRELLA', 'ANTONIO CARLOS RODRIGUES', 'ASSIS GURGACZ', 'CIDINHO SANTOS', 'EDUARDO LOPES', 'JADER BARBALHO', 'JOÃO COSTA', 'MARCO ANTÔNIO COSTA', 'SODRÉ SANTORO', 'TOMÁS CORREIA', 'WILDER MORAIS', 'RUBEN FIGUEIRÓ', 'ANTONIO AURELIANO', 'DOUGLAS CINTRA', 'FLEURY', 'KAKÁ ANDRADE', 'ODACIR SOARES', 'ANTONIO ANASTASIA', 'DALIRIO BEBER', 'DÁRIO BERGER', 'DAVI ALCOLUMBRE', 'DONIZETI NOGUEIRA', 'EDISON LOBÃO', 'ELMANO FÉRRER', 'FÁTIMA BEZERRA', 'FERNANDO BEZERRA COELHO', 'FERNANDO RIBEIRO', 'GLADSON CAMELI', 'HÉLIO JOSÉ', 'JOSÉ MARANHÃO', 'JOSÉ MEDEIROS', 'JOSÉ SERRA', 'LASIER MARTINS', 'OMAR AZIZ', 'OTTO ALENCAR', 'PAULO ROCHA', 'RAIMUNDO LIRA', 'REGINA SOUSA', 'RICARDO FRANCO', 'ROBERTO ROCHA', 'ROMÁRIO', 'RONALDO CAIADO', 'ROSE DE FREITAS', 'SANDRA BRAGA', 'SIMONE TEBET', 'TELMÁRIO MOTA', 'WELLINGTON FAGUNDES', 'DECA', 'GILBERTO PISELO', 'JOSÉ ANÍBAL', 'PASTOR VALADARES', 'PEDRO CHAVES DOS SANTOS FILHO', 'PINTO ITAMARATY', 'ROBERTO MUNIZ', 'VIRGINIO DE CARVALHO', 'WIRLANDE DA LUZ', 'AIRTON SANDOVAL', 'ELBER BATALHA', 'PASTOR BEL', 'SÉRGIO DE CASTRO', 'THIERES PINTO', 'GIVAGO TENÓRIO', 'GUARACY SILVEIRA', 'IONE GUIMARÃES', 'JOSÉ AMAURI', 'RODRIGUES PALMA', 'RUDSON LEITE', 'ZÉ SANTANA', 'ALESSANDRO VIEIRA', 'ANGELO CORONEL', 'AROLDE DE OLIVEIRA', 'CARLOS VIANA', 'CHICO RODRIGUES', 'CID GOMES', 'CONFÚCIO MOURA', 'DANIELLA RIBEIRO', 'EDUARDO GIRÃO', 'EDUARDO GOMES', 'ELIZIANE GAMA', 'ESPERIDIÃO AMIN', 'FABIANO CONTARATO', 'FLÁVIO BOLSONARO', 'IRAJÁ', 'IZALCI LUCAS', 'JAQUES WAGNER', 'JEAN PAUL PRATES', 'JORGINHO MELLO', 'JUÍZA SELMA', 'LUCAS BARRETO', 'LUIS CARLOS HEINZE', 'LUIZ CARLOS DO CARMO', 'LUIZ PASTORE', 'MAILZA GOMES', 'MAJOR OLIMPIO', 'MARA GABRILLI', 'MARCELO CASTRO', 'MARCIO BITTAR', 'MARCOS DO VAL', 'MARCOS ROGÉRIO', 'MECIAS DE JESUS', 'NELSINHO TRAD', 'ORIOVISTO GUIMARÃES', 'PAULO ALBUQUERQUE', 'PLÍNIO VALÉRIO', 'PRISCO BEZERRA', 'RENILDE BULHÕES', 'RODRIGO CUNHA', 'RODRIGO PACHECO', 'ROGÉRIO CARVALHO', 'SIQUEIRA CAMPOS', 'SORAYA THRONICKE', 'STYVENSON VALENTIM', 'VANDERLAN CARDOSO', 'VENEZIANO VITAL DO RÊGO', 'WEVERTON ROCHA', 'ZENAIDE MAIA', 'ZEQUINHA MARINHO', 'CARLOS FÁVARO', 'CARLOS PORTINHO', 'DIEGO TAVARES', 'NEY SUASSUNA', 'CHIQUINHO FEITOSA', 'ELIANE NOGUEIRA', 'GIORDANO', 'MARIA ELIZA DE AGUIAR E SILVA', 'NAILDE PANTA', 'NILDA GONDIM', 'ALEXANDRE SILVEIRA', 'DRA. EUDÓCIA', 'EDUARDO VELLOSO', 'FABIO GARCIA', 'FERNANDO DUEIRE', 'IVETE DA SILVEIRA', 'JULIO VENTURA', 'LEILA BARROS', 'MARGARETH BUZETTI', 'MARIA DAS VITÓRIAS', 'OGARI PACHECO', 'RAFAEL TENÓRIO', 'ROBERTH BRINGEL', 'SAMUEL ARAUJO']\n"
     ]
    }
   ],
   "source": [
    "print(df_3['SENADOR'].unique().tolist())"
   ]
  },
  {
   "cell_type": "code",
   "execution_count": 14,
   "metadata": {},
   "outputs": [
    {
     "data": {
      "text/plain": [
       "array(['Aluguel de imóveis para escritório político, compreendendo despesas concernentes a eles.',\n",
       "       'Divulgação da atividade parlamentar',\n",
       "       'Locomoção, hospedagem, alimentação, combustíveis e lubrificantes',\n",
       "       'Contratação de consultorias, assessorias, pesquisas, trabalhos técnicos e outros serviços de apoio ao exercício do mandato parlamentar',\n",
       "       'Aquisição de material de consumo para uso no escritório político, inclusive aquisição ou locação de software, despesas postais, aquisição de publicações, locação de móveis e de equipamentos. ',\n",
       "       'Passagens aéreas, aquáticas e terrestres nacionais',\n",
       "       'Serviços de Segurança Privada',\n",
       "       'Aquisição de material de consumo para uso no escritório político, inclusive aquisição ou locação de software, despesas postais, aquisição de publicações, locação de móveis e de equipamentos.'],\n",
       "      dtype=object)"
      ]
     },
     "execution_count": 14,
     "metadata": {},
     "output_type": "execute_result"
    }
   ],
   "source": [
    "df_3['TIPO_DESPESA'].unique()"
   ]
  },
  {
   "cell_type": "code",
   "execution_count": 13,
   "metadata": {},
   "outputs": [],
   "source": [
    "def correct_tipo_despesa(df):\n",
    "    corrections = {\n",
    "        'Aluguel de im�veis para escrit�rio pol�tico, compreendendo despesas concernentes a eles.': 'Aluguel de imóveis para escritório político, compreendendo despesas concernentes a eles.',\n",
    "        'Divulga��o da atividade parlamentar': 'Divulgação da atividade parlamentar',\n",
    "        'Locomo��o, hospedagem, alimenta��o, combust�veis e lubrificantes': 'Locomoção, hospedagem, alimentação, combustíveis e lubrificantes',\n",
    "        'Contrata��o de consultorias, assessorias, pesquisas, trabalhos t�cnicos e outros servi�os de apoio ao exerc�cio do mandato parlamentar': 'Contratação de consultorias, assessorias, pesquisas, trabalhos técnicos e outros serviços de apoio ao exercício do mandato parlamentar',\n",
    "        'Aquisi��o de material de consumo para uso no escrit�rio pol�tico, inclusive aquisi��o ou loca��o de software, despesas postais, aquisi��o de publica��es, loca��o de m�veis e de equipamentos. ': 'Aquisição de material de consumo para uso no escritório político, inclusive aquisição ou locação de software, despesas postais, aquisição de publicações, locação de móveis e de equipamentos.',\n",
    "        'Passagens a�reas, aqu�ticas e terrestres nacionais': 'Passagens aéreas, aquáticas e terrestres nacionais',\n",
    "        'Servi�os de Seguran�a Privada': 'Serviços de Segurança Privada'\n",
    "    }\n",
    "    \n",
    "    df['TIPO_DESPESA'] = df['TIPO_DESPESA'].apply(lambda x: corrections.get(x, x))\n",
    "\n",
    "# Call the function to correct the 'TIPO_DESPESA' column\n",
    "correct_tipo_despesa(df_3)\n",
    "\n",
    "\n"
   ]
  }
 ],
 "metadata": {
  "kernelspec": {
   "display_name": "venv_ch",
   "language": "python",
   "name": "python3"
  },
  "language_info": {
   "codemirror_mode": {
    "name": "ipython",
    "version": 3
   },
   "file_extension": ".py",
   "mimetype": "text/x-python",
   "name": "python",
   "nbconvert_exporter": "python",
   "pygments_lexer": "ipython3",
   "version": "3.10.12"
  }
 },
 "nbformat": 4,
 "nbformat_minor": 2
}
