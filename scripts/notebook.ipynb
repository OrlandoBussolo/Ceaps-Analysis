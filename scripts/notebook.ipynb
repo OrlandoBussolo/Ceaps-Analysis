{
 "cells": [
  {
   "cell_type": "code",
   "execution_count": 9,
   "metadata": {},
   "outputs": [
    {
     "name": "stdout",
     "output_type": "stream",
     "text": [
      "                                                                                                                      ULTIMA ATUALIZACAO  \\\n",
      "ANO  MES SENADOR   TIPO_DESPESA                                       CNPJ_CPF FORNECEDOR DOCUMENTO DATA DETALHAMENTO  VALOR_REEMBOLSADO   \n",
      "2008 9   ADA MELLO Contratação de consultorias, assessorias, pesqu... NaN      NaN        NaN       NaN  NaN                    12351,52   \n",
      "\n",
      "                                                                                                                      06/08/2021 02:00  \n",
      "ANO  MES SENADOR   TIPO_DESPESA                                       CNPJ_CPF FORNECEDOR DOCUMENTO DATA DETALHAMENTO    COD_DOCUMENTO  \n",
      "2008 9   ADA MELLO Contratação de consultorias, assessorias, pesqu... NaN      NaN        NaN       NaN  NaN             2008090814004  \n"
     ]
    }
   ],
   "source": [
    "import pandas as pd\n",
    "\n",
    "# Caminho do arquivo CSV\n",
    "caminho_arquivo_csv = '/home/orlando_linux/alura_challange/csv_site/despesa_ceaps_2008.csv'\n",
    "\n",
    "# Leitura do arquivo CSV com encoding 'latin-1' e ponto e vírgula como delimitador\n",
    "dados = pd.read_csv(caminho_arquivo_csv, delimiter=';')\n",
    "\n",
    "# Exibição dos dados\n",
    "print(dados.head(2))\n",
    "\n"
   ]
  },
  {
   "cell_type": "code",
   "execution_count": null,
   "metadata": {},
   "outputs": [],
   "source": []
  }
 ],
 "metadata": {
  "kernelspec": {
   "display_name": "venv_ch",
   "language": "python",
   "name": "python3"
  },
  "language_info": {
   "codemirror_mode": {
    "name": "ipython",
    "version": 3
   },
   "file_extension": ".py",
   "mimetype": "text/x-python",
   "name": "python",
   "nbconvert_exporter": "python",
   "pygments_lexer": "ipython3",
   "version": "3.10.12"
  }
 },
 "nbformat": 4,
 "nbformat_minor": 2
}
