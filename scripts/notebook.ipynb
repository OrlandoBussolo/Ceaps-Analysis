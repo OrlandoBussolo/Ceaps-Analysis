{
 "cells": [
  {
   "cell_type": "code",
   "execution_count": 36,
   "metadata": {},
   "outputs": [
    {
     "name": "stdout",
     "output_type": "stream",
     "text": [
      "<class 'pandas.core.frame.DataFrame'>\n",
      "RangeIndex: 317963 entries, 0 to 317962\n",
      "Data columns (total 11 columns):\n",
      " #   Column             Non-Null Count   Dtype  \n",
      "---  ------             --------------   -----  \n",
      " 0   ANO                317963 non-null  int64  \n",
      " 1   MES                317963 non-null  int64  \n",
      " 2   SENADOR            317963 non-null  object \n",
      " 3   TIPO_DESPESA       317963 non-null  object \n",
      " 4   CNPJ_CPF           314819 non-null  object \n",
      " 5   FORNECEDOR         314819 non-null  object \n",
      " 6   DOCUMENTO          293153 non-null  object \n",
      " 7   DATA               314819 non-null  object \n",
      " 8   DETALHAMENTO       180631 non-null  object \n",
      " 9   VALOR_REEMBOLSADO  317962 non-null  object \n",
      " 10  COD_DOCUMENTO      317959 non-null  float64\n",
      "dtypes: float64(1), int64(2), object(8)\n",
      "memory usage: 26.7+ MB\n",
      "None\n"
     ]
    }
   ],
   "source": [
    "import pandas as pd\n",
    "\n",
    "# List of years\n",
    "years = range(2008, 2023)\n",
    "\n",
    "# List to store all files\n",
    "lista_dfs = []\n",
    "\n",
    "for year in years:\n",
    "    # file path\n",
    "    csv_file_path = f'/home/orlando_linux/alura_challange/csv_site/despesa_ceaps_{year}.csv'\n",
    "    \n",
    "    # Reading CSV file with 'latin-1' encoding, semicolon as delimiter, and removal of the first line.\n",
    "    try:\n",
    "        data = pd.read_csv(csv_file_path, delimiter=';', encoding='utf-8', skiprows=1)\n",
    "    except UnicodeDecodeError:\n",
    "        data = pd.read_csv(csv_file_path, delimiter=';', encoding='latin-1', skiprows=1)\n",
    "    \n",
    "    # To create the DataFrame for the current year and add it to the list\n",
    "    df = pd.DataFrame(data)\n",
    "    lista_dfs.append(df)\n",
    "\n",
    "# Concatenating all DataFrames from the list into a single DataFrame\n",
    "df = pd.concat(lista_dfs, ignore_index=True)\n",
    "\n"
   ]
  },
  {
   "cell_type": "code",
   "execution_count": 27,
   "metadata": {},
   "outputs": [
    {
     "name": "stdout",
     "output_type": "stream",
     "text": [
      "Total de linhas removidas foi de 3144\n",
      "Compreendendo a 0.99% do total\n"
     ]
    }
   ],
   "source": [
    "# Contando o número de linhas antes da remoção\n",
    "total_linhas_antes = len(df)\n",
    "\n",
    "# Removendo linhas onde a coluna 'DATA' é nula\n",
    "df_1 = df.dropna(subset=['DATA'])\n",
    "\n",
    "# Contando o número de linhas após a remoção\n",
    "total_linhas_depois = len(df_1)\n",
    "\n",
    "# Calculando o número de linhas eliminadas\n",
    "linhas_eliminadas = total_linhas_antes - total_linhas_depois\n",
    "\n",
    "# Calculando o percentual eliminado\n",
    "linhas_eliminadas_share = round(1-(total_linhas_antes - total_linhas_depois)/total_linhas_antes,2)\n",
    "\n",
    "print(f\"Total de linhas removidas foi de {linhas_eliminadas}\")\n",
    "print(f\"Compreendendo a {linhas_eliminadas_share}% do total\")\n"
   ]
  },
  {
   "cell_type": "code",
   "execution_count": 28,
   "metadata": {},
   "outputs": [
    {
     "name": "stdout",
     "output_type": "stream",
     "text": [
      "Número de linhas com erros após a conversão: 23\n",
      "Percentual de linhas eliminadas: 0.01%\n"
     ]
    }
   ],
   "source": [
    "# Convertendo a coluna 'DATA' para datetime com o formato correto 'dia/mês/ano'\n",
    "df_1.loc[:, 'DATA'] = pd.to_datetime(df_1['DATA'], format='%d/%m/%Y', errors='coerce')\n",
    "\n",
    "# Contando o número de valores NaT na coluna 'DATA'\n",
    "num_errors = df_1['DATA'].isna().sum()\n",
    "\n",
    "print(\"Número de linhas com erros após a conversão:\", num_errors)\n",
    "\n",
    "# Removendo linhas com valores NaT na coluna 'DATA'\n",
    "df_2 = df_1.dropna(subset=['DATA'])\n",
    "\n",
    "# Calculando o número total de linhas original\n",
    "total_linhas_original = len(df_1)\n",
    "\n",
    "# Calculando o percentual de linhas eliminadas\n",
    "linhas_eliminadas = num_errors\n",
    "percentual_eliminado = (linhas_eliminadas / total_linhas_original) * 100\n",
    "\n",
    "print(f\"Percentual de linhas eliminadas: {percentual_eliminado:.2f}%\")\n"
   ]
  },
  {
   "cell_type": "code",
   "execution_count": 29,
   "metadata": {},
   "outputs": [],
   "source": [
    "# Remover caracteres indesejados da coluna 'VALOR_REEMBOLSADO'\n",
    "df_2.loc[:, 'VALOR_REEMBOLSADO'] = df_2['VALOR_REEMBOLSADO'].str.replace('\\r\\n', '').str.replace(',', '.')\n",
    "\n",
    "# Converter a coluna 'VALOR_REEMBOLSADO' para float\n",
    "df_2.loc[:, 'VALOR_REEMBOLSADO'] = df_2['VALOR_REEMBOLSADO'].astype(float)\n",
    "\n",
    "# Remover o índice\n",
    "df_3 = df_2.reset_index(drop=True)"
   ]
  },
  {
   "cell_type": "code",
   "execution_count": 30,
   "metadata": {},
   "outputs": [
    {
     "name": "stdout",
     "output_type": "stream",
     "text": [
      "<class 'pandas.core.frame.DataFrame'>\n",
      "RangeIndex: 314796 entries, 0 to 314795\n",
      "Data columns (total 11 columns):\n",
      " #   Column             Non-Null Count   Dtype  \n",
      "---  ------             --------------   -----  \n",
      " 0   ANO                314796 non-null  int64  \n",
      " 1   MES                314796 non-null  int64  \n",
      " 2   SENADOR            314796 non-null  object \n",
      " 3   TIPO_DESPESA       314796 non-null  object \n",
      " 4   CNPJ_CPF           314796 non-null  object \n",
      " 5   FORNECEDOR         314796 non-null  object \n",
      " 6   DOCUMENTO          293132 non-null  object \n",
      " 7   DATA               314796 non-null  object \n",
      " 8   DETALHAMENTO       180610 non-null  object \n",
      " 9   VALOR_REEMBOLSADO  314796 non-null  object \n",
      " 10  COD_DOCUMENTO      314794 non-null  float64\n",
      "dtypes: float64(1), int64(2), object(8)\n",
      "memory usage: 26.4+ MB\n"
     ]
    }
   ],
   "source": [
    "df_3.info()"
   ]
  },
  {
   "cell_type": "code",
   "execution_count": 33,
   "metadata": {},
   "outputs": [
    {
     "name": "stdout",
     "output_type": "stream",
     "text": [
      "['ACIR GURGACZ', 'ADELMIR SANTANA', 'ALMEIDA LIMA', 'ALOIZIO MERCADANTE', 'ANTONIO CARLOS JUNIOR', 'ANTONIO CARLOS VALADARES', 'ARTHUR VIRGILIO', 'AUGUSTO BOTELHO', 'CESAR BORGES', 'CICERO LUCENA', 'CRISTOVAM BUARQUE', 'DELCIDIO DO AMARAL', 'DEMOSTENES TORRES', 'EDUARDO AZEREDO', 'EDUARDO SUPLICY', 'EFRAIM MORAIS', 'ELISEU RESENDE', 'EPITACIO CAFETEIRA', 'EXPEDITO JUNIOR', 'FATIMA CLEIDE', 'FERNANDO COLLOR', 'FLAVIO ARNS', 'FLAVIO TORRES', 'FLEXA RIBEIRO', 'FRANCISCO DORNELLES', 'GARIBALDI ALVES FILHO', 'GERALDO MESQUITA JUNIOR', 'GERSON CAMATA', 'GILBERTO GOELLNER', 'GILVAM BORGES', 'GIM ARGELLO', 'HERACLITO FORTES', 'IDELI SALVATTI', 'INACIO ARRUDA', 'JARBAS VASCONCELOS', 'JAYME CAMPOS', 'JEFFERSON PRAIA', 'JOAO DURVAL', 'JOAO PEDRO', 'JOAO RIBEIRO', 'JOAO TENORIO', 'JOAO VICENTE CLAUDINO', 'JOSE AGRIPINO', 'JOSE NERY', 'JOSE SARNEY', 'KATIA ABREU', 'LEOMAR QUINTANILHA', 'LOBAO FILHO', 'LUCIA VANIA', 'MAGNO MALTA', 'MAO SANTA', 'MARCELO CRIVELLA', 'MARCONI PERILLO', 'MARIA DO CARMO ALVES', 'MARINA SILVA', 'MARIO COUTO', 'MARISA SERRANO', 'MAURO FECURY', 'MOZARILDO CAVALCANTI', 'NEUTO DE CONTO', 'OSMAR DIAS', 'OSVALDO SOBRINHO', 'PAPALEO PAES', 'PATRICIA SABOYA GOMES', 'PAULO DUQUE', 'PAULO PAIM', 'RAIMUNDO COLOMBO', 'RENAN CALHEIROS', 'RENATO CASAGRANDE', 'ROBERTO CAVALCANTI', 'ROMERO JUCA', 'ROMEU TUMA', 'ROSALBA CIARLINI', 'ROSEANA SARNEY', 'SADI CASSOL', 'SERGIO GUERRA', 'SERGIO ZAMBIASI', 'SERYS SLHESSARENKO', 'TASSO JEREISSATI', 'TIAO VIANA', 'VALDIR RAUPP', 'VALTER PEREIRA', 'WELLINGTON SALGADO DE OLIVEIRA', 'ALFREDO COTAIT', 'ALFREDO NASCIMENTO', 'BELINI MEURER', 'GEOVANI BORGES', 'HELIO COSTA', 'JOAO FAUSTINO', 'JORGE YANAI', 'JOSE BEZERRA', 'NIURA DEMARCHI', 'SELMA ELIAS', 'AECIO NEVES', 'ALOYSIO NUNES FERREIRA', 'ALVARO DIAS', 'ANA AMELIA', 'ANA RITA', 'ANGELA PORTELA', 'ANIBAL DINIZ', 'ANTONIO RUSSO', 'ARMANDO MONTEIRO', 'ATAIDES OLIVEIRA', 'BENEDITO DE LIRA', 'BLAIRO MAGGI', 'CASILDO MALDANER', 'CASSIO CUNHA LIMA', 'CIRO NOGUEIRA', 'CLESIO ANDRADE', 'CLOVIS FECURY', 'CYRO MIRANDA', 'DANIMAR CRISTINA', 'EDUARDO AMORIM', 'EDUARDO BRAGA', 'GARIBALDI ALVES', 'GLEISI HOFFMANN', 'HUMBERTO COSTA', 'IVO CASSOL', 'IVONETE DANTAS', 'JOAO ALBERTO SOUZA', 'JOAO CAPIBERIBE', 'JORGE VIANA', 'JOSE PIMENTEL', 'LAURO ANTONIO', 'LIDICE DA MATA', 'LINDBERGH FARIAS', 'LUIZ CARLOS', 'LUIZ HENRIQUE', 'MARINOR BRITO', 'MARTA SUPLICY', 'PAULO BAUER', 'PAULO DAVIM', 'PEDRO SIMON', 'PEDRO TAQUES', 'RANDOLFE RODRIGUES', 'REDITARIO CASSOL', 'RICARDO FERRACO', 'ROBERTO REQUIAO', 'SERGIO PETECAO', 'SERGIO SOUZA', 'VANESSA GRAZZIOTIN', 'VICENTINHO ALVES', 'VITAL DO REGO', 'WALDEMIR MOKA', 'WALTER PINHEIRO', 'WELLINGTON DIAS', 'WILSON SANTIAGO', 'ZEZE PERRELLA', 'ANTONIO CARLOS RODRIGUES', 'ASSIS GURGACZ', 'CIDINHO SANTOS', 'EDUARDO LOPES', 'JADER BARBALHO', 'JOAO COSTA', 'MARCO ANTONIO COSTA', 'SODRE SANTORO', 'TOMAS CORREIA', 'WILDER MORAIS', 'RUBEN FIGUEIRO', 'ANTONIO AURELIANO', 'DOUGLAS CINTRA', 'FLEURY', 'KAKA ANDRADE', 'ODACIR SOARES', 'ACIO NEVES', 'ANA AMLIA', 'NGELA PORTELA', 'ANBAL DINIZ', 'ANTONIO ANASTASIA', 'ANTNIO CARLOS VALADARES', 'ATADES OLIVEIRA', 'CSSIO CUNHA LIMA', 'CCERO LUCENA', 'DALIRIO BEBER', 'DRIO BERGER', 'DAVI ALCOLUMBRE', 'DONIZETI NOGUEIRA', 'EDISON LOBO', 'ELMANO FRRER', 'EPITCIO CAFETEIRA', 'FTIMA BEZERRA', 'FERNANDO BEZERRA COELHO', 'FERNANDO RIBEIRO', 'GLADSON CAMELI', 'HLIO JOS', 'INCIO ARRUDA', 'JOO ALBERTO SOUZA', 'JOO CAPIBERIBE', 'JOO DURVAL', 'JOO VICENTE CLAUDINO', 'JOS AGRIPINO', 'JOS MARANHO', 'JOS MEDEIROS', 'JOS PIMENTEL', 'JOS SERRA', 'LASIER MARTINS', 'LDICE DA MATA', 'LCIA VNIA', 'MARCO ANTNIO COSTA', 'MRIO COUTO', 'OMAR AZIZ', 'OTTO ALENCAR', 'PAULO ROCHA', 'RAIMUNDO LIRA', 'REGINA SOUSA', 'RICARDO FERRAO', 'RICARDO FRANCO', 'ROBERTO REQUIO', 'ROBERTO ROCHA', 'ROMRIO', 'ROMERO JUC', 'RONALDO CAIADO', 'ROSE DE FREITAS', 'RUBEN FIGUEIR', 'SANDRA BRAGA', 'SRGIO PETECO', 'SIMONE TEBET', 'SODR SANTORO', 'TELMRIO MOTA', 'WELLINGTON FAGUNDES', 'ZEZ PERRELLA', 'DARIO BERGER', 'DECA', 'EDISON LOBAO', 'ELMANO FERRER', 'FATIMA BEZERRA', 'GILBERTO PISELO', 'HELIO JOSE', 'JOSE ANIBAL', 'JOSE MARANHAO', 'JOSE MEDEIROS', 'JOSE SERRA', 'PASTOR VALADARES', 'PEDRO CHAVES DOS SANTOS FILHO', 'PINTO ITAMARATY', 'ROBERTO MUNIZ', 'ROMARIO', 'TELMARIO MOTA', 'VIRGINIO DE CARVALHO', 'WIRLANDE DA LUZ', 'AIRTON SANDOVAL', 'ELBER BATALHA', 'PASTOR BEL', 'SERGIO DE CASTRO', 'THIERES PINTO', 'GIVAGO TENORIO', 'GUARACY SILVEIRA', 'IONE GUIMARAES', 'JOSE AMAURI', 'RODRIGUES PALMA', 'RUDSON LEITE', 'ZE SANTANA', 'ALESSANDRO VIEIRA', 'ANGELO CORONEL', 'AROLDE DE OLIVEIRA', 'CARLOS VIANA', 'CHICO RODRIGUES', 'CID GOMES', 'CONFUCIO MOURA', 'DANIELLA RIBEIRO', 'EDUARDO GIRAO', 'EDUARDO GOMES', 'ELIZIANE GAMA', 'ESPERIDIAO AMIN', 'FABIANO CONTARATO', 'FLAVIO BOLSONARO', 'IRAJA', 'IZALCI LUCAS', 'JAQUES WAGNER', 'JEAN PAUL PRATES', 'JORGINHO MELLO', 'JUIZA SELMA', 'LUCAS BARRETO', 'LUIS CARLOS HEINZE', 'LUIZ CARLOS DO CARMO', 'LUIZ PASTORE', 'MAILZA GOMES', 'MAJOR OLIMPIO', 'MARA GABRILLI', 'MARCELO CASTRO', 'MARCIO BITTAR', 'MARCOS DO VAL', 'MARCOS ROGERIO', 'MECIAS DE JESUS', 'NELSINHO TRAD', 'ORIOVISTO GUIMARAES', 'PAULO ALBUQUERQUE', 'PLINIO VALERIO', 'PRISCO BEZERRA', 'RENILDE BULHOES', 'RODRIGO CUNHA', 'RODRIGO PACHECO', 'ROGERIO CARVALHO', 'SIQUEIRA CAMPOS', 'SORAYA THRONICKE', 'STYVENSON VALENTIM', 'VANDERLAN CARDOSO', 'VENEZIANO VITAL DO REGO', 'WEVERTON ROCHA', 'ZENAIDE MAIA', 'ZEQUINHA MARINHO', 'CARLOS FAVARO', 'CARLOS PORTINHO', 'DIEGO TAVARES', 'NEY SUASSUNA', 'CHIQUINHO FEITOSA', 'ELIANE NOGUEIRA', 'GIORDANO', 'MARIA ELIZA DE AGUIAR E SILVA', 'NAILDE PANTA', 'NILDA GONDIM', 'ALEXANDRE SILVEIRA', 'DRA. EUDOCIA', 'EDUARDO VELLOSO', 'FABIO GARCIA', 'FERNANDO DUEIRE', 'IVETE DA SILVEIRA', 'JULIO VENTURA', 'LEILA BARROS', 'MARGARETH BUZETTI', 'MARIA DAS VITORIAS', 'OGARI PACHECO', 'RAFAEL TENORIO', 'ROBERTH BRINGEL', 'SAMUEL ARAUJO']\n"
     ]
    }
   ],
   "source": [
    "print(df_3['SENADOR'].unique().tolist())"
   ]
  },
  {
   "cell_type": "code",
   "execution_count": 32,
   "metadata": {},
   "outputs": [],
   "source": [
    "import pandas as pd\n",
    "from unidecode import unidecode\n",
    "\n",
    "\n",
    "# Função para normalizar os nomes\n",
    "def normalizar_nome(nome):\n",
    "    return unidecode(nome)\n",
    "\n",
    "# Aplicar a função normalizar_nome à coluna 'SENADOR'\n",
    "df_3['SENADOR'] = df_3['SENADOR'].apply(normalizar_nome)\n",
    "\n",
    "\n"
   ]
  },
  {
   "cell_type": "code",
   "execution_count": 35,
   "metadata": {},
   "outputs": [
    {
     "data": {
      "text/html": [
       "<div>\n",
       "<style scoped>\n",
       "    .dataframe tbody tr th:only-of-type {\n",
       "        vertical-align: middle;\n",
       "    }\n",
       "\n",
       "    .dataframe tbody tr th {\n",
       "        vertical-align: top;\n",
       "    }\n",
       "\n",
       "    .dataframe thead th {\n",
       "        text-align: right;\n",
       "    }\n",
       "</style>\n",
       "<table border=\"1\" class=\"dataframe\">\n",
       "  <thead>\n",
       "    <tr style=\"text-align: right;\">\n",
       "      <th></th>\n",
       "      <th>ANO</th>\n",
       "      <th>MES</th>\n",
       "      <th>SENADOR</th>\n",
       "      <th>TIPO_DESPESA</th>\n",
       "      <th>CNPJ_CPF</th>\n",
       "      <th>FORNECEDOR</th>\n",
       "      <th>DOCUMENTO</th>\n",
       "      <th>DATA</th>\n",
       "      <th>DETALHAMENTO</th>\n",
       "      <th>VALOR_REEMBOLSADO</th>\n",
       "      <th>COD_DOCUMENTO</th>\n",
       "    </tr>\n",
       "  </thead>\n",
       "  <tbody>\n",
       "    <tr>\n",
       "      <th>314791</th>\n",
       "      <td>2022</td>\n",
       "      <td>12</td>\n",
       "      <td>ZEQUINHA MARINHO</td>\n",
       "      <td>Passagens aéreas, aquáticas e terrestres nacio...</td>\n",
       "      <td>22.052.777/0001-32</td>\n",
       "      <td>Exceller Tour</td>\n",
       "      <td>WIXHAI</td>\n",
       "      <td>2022-12-06 00:00:00</td>\n",
       "      <td>Companhia Aérea: LATAM, Localizador: WIXHAI. P...</td>\n",
       "      <td>2893.04</td>\n",
       "      <td>2191398.0</td>\n",
       "    </tr>\n",
       "    <tr>\n",
       "      <th>314792</th>\n",
       "      <td>2022</td>\n",
       "      <td>12</td>\n",
       "      <td>ZEQUINHA MARINHO</td>\n",
       "      <td>Passagens aéreas, aquáticas e terrestres nacio...</td>\n",
       "      <td>22.052.777/0001-32</td>\n",
       "      <td>Exceller Tour</td>\n",
       "      <td>WITOLM</td>\n",
       "      <td>2022-12-09 00:00:00</td>\n",
       "      <td>Companhia Aérea: GOL, Localizador: WITOLM. Pas...</td>\n",
       "      <td>1180.19</td>\n",
       "      <td>2192272.0</td>\n",
       "    </tr>\n",
       "    <tr>\n",
       "      <th>314793</th>\n",
       "      <td>2022</td>\n",
       "      <td>12</td>\n",
       "      <td>ZEQUINHA MARINHO</td>\n",
       "      <td>Passagens aéreas, aquáticas e terrestres nacio...</td>\n",
       "      <td>22.052.777/0001-32</td>\n",
       "      <td>Exceller Tour</td>\n",
       "      <td>THPKVQ</td>\n",
       "      <td>2022-12-20 00:00:00</td>\n",
       "      <td>Companhia Aérea: TAM, Localizador: THPKVQ. Pas...</td>\n",
       "      <td>2671.9</td>\n",
       "      <td>2192274.0</td>\n",
       "    </tr>\n",
       "    <tr>\n",
       "      <th>314794</th>\n",
       "      <td>2022</td>\n",
       "      <td>12</td>\n",
       "      <td>ZEQUINHA MARINHO</td>\n",
       "      <td>Passagens aéreas, aquáticas e terrestres nacio...</td>\n",
       "      <td>22.052.777/0001-32</td>\n",
       "      <td>Exceller Tour</td>\n",
       "      <td>QNN9HX</td>\n",
       "      <td>2022-12-21 00:00:00</td>\n",
       "      <td>Companhia Aérea: AZUL, Localizador: QNN9HX. Pa...</td>\n",
       "      <td>1334.31</td>\n",
       "      <td>2192244.0</td>\n",
       "    </tr>\n",
       "    <tr>\n",
       "      <th>314795</th>\n",
       "      <td>2022</td>\n",
       "      <td>12</td>\n",
       "      <td>ZEQUINHA MARINHO</td>\n",
       "      <td>Passagens aéreas, aquáticas e terrestres nacio...</td>\n",
       "      <td>22.052.777/0001-32</td>\n",
       "      <td>Exceller Tour</td>\n",
       "      <td>WMQWBX</td>\n",
       "      <td>2022-12-30 00:00:00</td>\n",
       "      <td>Companhia Aérea: TAM, Localizador: WMQWBX. Pas...</td>\n",
       "      <td>2250.72</td>\n",
       "      <td>2193622.0</td>\n",
       "    </tr>\n",
       "  </tbody>\n",
       "</table>\n",
       "</div>"
      ],
      "text/plain": [
       "         ANO  MES           SENADOR  \\\n",
       "314791  2022   12  ZEQUINHA MARINHO   \n",
       "314792  2022   12  ZEQUINHA MARINHO   \n",
       "314793  2022   12  ZEQUINHA MARINHO   \n",
       "314794  2022   12  ZEQUINHA MARINHO   \n",
       "314795  2022   12  ZEQUINHA MARINHO   \n",
       "\n",
       "                                             TIPO_DESPESA            CNPJ_CPF  \\\n",
       "314791  Passagens aéreas, aquáticas e terrestres nacio...  22.052.777/0001-32   \n",
       "314792  Passagens aéreas, aquáticas e terrestres nacio...  22.052.777/0001-32   \n",
       "314793  Passagens aéreas, aquáticas e terrestres nacio...  22.052.777/0001-32   \n",
       "314794  Passagens aéreas, aquáticas e terrestres nacio...  22.052.777/0001-32   \n",
       "314795  Passagens aéreas, aquáticas e terrestres nacio...  22.052.777/0001-32   \n",
       "\n",
       "           FORNECEDOR DOCUMENTO                 DATA  \\\n",
       "314791  Exceller Tour    WIXHAI  2022-12-06 00:00:00   \n",
       "314792  Exceller Tour    WITOLM  2022-12-09 00:00:00   \n",
       "314793  Exceller Tour    THPKVQ  2022-12-20 00:00:00   \n",
       "314794  Exceller Tour    QNN9HX  2022-12-21 00:00:00   \n",
       "314795  Exceller Tour    WMQWBX  2022-12-30 00:00:00   \n",
       "\n",
       "                                             DETALHAMENTO VALOR_REEMBOLSADO  \\\n",
       "314791  Companhia Aérea: LATAM, Localizador: WIXHAI. P...           2893.04   \n",
       "314792  Companhia Aérea: GOL, Localizador: WITOLM. Pas...           1180.19   \n",
       "314793  Companhia Aérea: TAM, Localizador: THPKVQ. Pas...            2671.9   \n",
       "314794  Companhia Aérea: AZUL, Localizador: QNN9HX. Pa...           1334.31   \n",
       "314795  Companhia Aérea: TAM, Localizador: WMQWBX. Pas...           2250.72   \n",
       "\n",
       "        COD_DOCUMENTO  \n",
       "314791      2191398.0  \n",
       "314792      2192272.0  \n",
       "314793      2192274.0  \n",
       "314794      2192244.0  \n",
       "314795      2193622.0  "
      ]
     },
     "execution_count": 35,
     "metadata": {},
     "output_type": "execute_result"
    }
   ],
   "source": [
    "df_3.tail()"
   ]
  },
  {
   "cell_type": "code",
   "execution_count": null,
   "metadata": {},
   "outputs": [],
   "source": []
  }
 ],
 "metadata": {
  "kernelspec": {
   "display_name": "venv_ch",
   "language": "python",
   "name": "python3"
  },
  "language_info": {
   "codemirror_mode": {
    "name": "ipython",
    "version": 3
   },
   "file_extension": ".py",
   "mimetype": "text/x-python",
   "name": "python",
   "nbconvert_exporter": "python",
   "pygments_lexer": "ipython3",
   "version": "3.10.12"
  }
 },
 "nbformat": 4,
 "nbformat_minor": 2
}
